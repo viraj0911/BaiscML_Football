{
 "cells": [
  {
   "cell_type": "code",
   "execution_count": 2,
   "metadata": {},
   "outputs": [],
   "source": [
    "from statsbombpy import sb "
   ]
  },
  {
   "cell_type": "code",
   "execution_count": 3,
   "metadata": {},
   "outputs": [
    {
     "name": "stderr",
     "output_type": "stream",
     "text": [
      "/opt/homebrew/lib/python3.9/site-packages/statsbombpy/api_client.py:21: NoAuthWarning: credentials were not supplied. open data access only\n",
      "  warnings.warn(\n"
     ]
    }
   ],
   "source": [
    "event = sb.events(3942819)"
   ]
  },
  {
   "cell_type": "code",
   "execution_count": 4,
   "metadata": {},
   "outputs": [
    {
     "name": "stdout",
     "output_type": "stream",
     "text": [
      "6              NaN\n",
      "7       Incomplete\n",
      "8       Incomplete\n",
      "9              NaN\n",
      "10             NaN\n",
      "           ...    \n",
      "1066           NaN\n",
      "1067           NaN\n",
      "1068           NaN\n",
      "1069    Incomplete\n",
      "1070    Incomplete\n",
      "Name: pass_outcome, Length: 1065, dtype: object\n"
     ]
    }
   ],
   "source": [
    "passes = event[event[\"type\"] == \"Pass\"]\n",
    "print(passes[\"pass_outcome\"])"
   ]
  },
  {
   "cell_type": "code",
   "execution_count": 6,
   "metadata": {},
   "outputs": [
    {
     "name": "stdout",
     "output_type": "stream",
     "text": [
      "<class 'pandas.core.frame.DataFrame'>\n",
      "Index: 954 entries, 6 to 1068\n",
      "Data columns (total 11 columns):\n",
      " #   Column             Non-Null Count  Dtype  \n",
      "---  ------             --------------  -----  \n",
      " 0   pass_length        954 non-null    float64\n",
      " 1   pass_angle         954 non-null    float64\n",
      " 2   pass_height        954 non-null    object \n",
      " 3   pass_end_location  954 non-null    object \n",
      " 4   pass_deflected     1 non-null      object \n",
      " 5   pass_cross         5 non-null      object \n",
      " 6   pass_switch        24 non-null     object \n",
      " 7   pass_body_part     924 non-null    object \n",
      " 8   pass_type          94 non-null     object \n",
      " 9   pass_outcome       0 non-null      object \n",
      " 10  pass_technique     3 non-null      object \n",
      "dtypes: float64(2), object(9)\n",
      "memory usage: 89.4+ KB\n"
     ]
    }
   ],
   "source": [
    "passes_comp = passes[passes[\"pass_outcome\"].isnull()]\n",
    "passes_comp = passes_comp[[\"pass_length\", \"pass_angle\",\"pass_height\",\"pass_end_location\",\"pass_deflected\",\"pass_cross\",\"pass_switch\", \"pass_body_part\",\"pass_type\",\"pass_outcome\",\"pass_technique\"]]\n",
    "passes_comp.info()"
   ]
  },
  {
   "cell_type": "code",
   "execution_count": 2,
   "metadata": {},
   "outputs": [
    {
     "name": "stderr",
     "output_type": "stream",
     "text": [
      "/opt/homebrew/lib/python3.9/site-packages/statsbombpy/api_client.py:21: NoAuthWarning: credentials were not supplied. open data access only\n",
      "  warnings.warn(\n"
     ]
    }
   ],
   "source": [
    "competitions = sb.competitions()"
   ]
  },
  {
   "cell_type": "code",
   "execution_count": 3,
   "metadata": {},
   "outputs": [
    {
     "name": "stderr",
     "output_type": "stream",
     "text": [
      "/opt/homebrew/lib/python3.9/site-packages/statsbombpy/api_client.py:21: NoAuthWarning: credentials were not supplied. open data access only\n",
      "  warnings.warn(\n"
     ]
    }
   ],
   "source": [
    "euro_matches = sb.matches(competition_id=55, season_id=282)"
   ]
  }
 ],
 "metadata": {
  "kernelspec": {
   "display_name": "Python 3",
   "language": "python",
   "name": "python3"
  },
  "language_info": {
   "codemirror_mode": {
    "name": "ipython",
    "version": 3
   },
   "file_extension": ".py",
   "mimetype": "text/x-python",
   "name": "python",
   "nbconvert_exporter": "python",
   "pygments_lexer": "ipython3",
   "version": "3.9.19"
  }
 },
 "nbformat": 4,
 "nbformat_minor": 2
}
